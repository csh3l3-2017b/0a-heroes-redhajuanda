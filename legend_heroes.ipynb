{
 "cells": [
  {
   "cell_type": "markdown",
   "metadata": {},
   "source": [
    "# TelU Legends Heroes"
   ]
  },
  {
   "cell_type": "markdown",
   "metadata": {},
   "source": [
    "* NIM : 1301168570\n",
    "* Nama : Redha Arifan Juanda\n",
    "* Kelas : IF-41-GAB02\n"
   ]
  },
  {
   "cell_type": "markdown",
   "metadata": {},
   "source": [
    "Langkah pertama yaitu mengimport library csv"
   ]
  },
  {
   "cell_type": "code",
   "execution_count": 1,
   "metadata": {
    "collapsed": true
   },
   "outputs": [],
   "source": [
    "import csv"
   ]
  },
  {
   "cell_type": "markdown",
   "metadata": {},
   "source": [
    "Selanjutnya meng-import data test yang diberikan "
   ]
  },
  {
   "cell_type": "code",
   "execution_count": 2,
   "metadata": {
    "collapsed": true
   },
   "outputs": [],
   "source": [
    "datafile = open('test.csv', 'r')\n",
    "myreader = csv.reader(datafile)\n",
    "next(myreader) #skip header\n",
    "arr = []"
   ]
  },
  {
   "cell_type": "markdown",
   "metadata": {},
   "source": [
    "Selanjutnya mengklasifikasikan setiap heroes berdasarkan rule yang diberikan, yaitu:\n",
    "1. Heroes yang memiliki movementSpeed >= 270, akan mendapat peran sebagai MARKSMAN (huruf kapital semua)\n",
    "2. Heroes dengan mana >= 500, akan mendapat peran sebagai MAGE (huruf kapital semua)\n",
    "3. Heroes dengan armor >= 25, akan mendapat peran sebagai TANK (huruf kapital semua)\n",
    "4. Heroes dengan physicalAttack >= 121, akan mendapat peran sebagai ASSASSIN (huruf kapital semua)\n",
    "5. Heroes dengan hp >= 2580, akan mendapat peran sebagai FIGHTER (huruf kapital semua)\n",
    "6. Heroes lainnya akan mendapat peran sebagai SUPPORT (huruf kapital semua)"
   ]
  },
  {
   "cell_type": "code",
   "execution_count": 3,
   "metadata": {},
   "outputs": [
    {
     "name": "stdout",
     "output_type": "stream",
     "text": [
      "name role\n",
      "Layla MARKSMAN\n",
      "Cyclops MAGE\n",
      "Minotaur TANK\n",
      "Saber ASSASSIN\n",
      "Roger FIGHTER\n",
      "Nana SUPPORT\n",
      "Akai FIGHTER\n",
      "Alice SUPPORT\n",
      "Alpha ASSASSIN\n",
      "Alucard FIGHTER\n",
      "Argus ASSASSIN\n",
      "Aurora MAGE\n",
      "Balmond FIGHTER\n",
      "Bane FIGHTER\n",
      "Bruno SUPPORT\n",
      "Chou ASSASSIN\n",
      "Clint ASSASSIN\n",
      "Diggie SUPPORT\n",
      "Estes MAGE\n",
      "Eudora SUPPORT\n",
      "Fanny MARKSMAN\n",
      "Franco TANK\n",
      "Freya FIGHTER\n",
      "Gatotkaca FIGHTER\n",
      "Gord MAGE\n",
      "Grock ASSASSIN\n",
      "Harley SUPPORT\n",
      "Hayabusa SUPPORT\n",
      "Helcur ASSASSIN\n",
      "Hilda ASSASSIN\n",
      "Hylos FIGHTER\n",
      "Irithel SUPPORT\n",
      "Johnson TANK\n",
      "Kagura MAGE\n",
      "Karina ASSASSIN\n",
      "Karrie SUPPORT\n",
      "Lancelot ASSASSIN\n",
      "Lapu-lapu FIGHTER\n",
      "Lolita TANK\n",
      "Miya SUPPORT\n",
      "Moskov ASSASSIN\n",
      "Natalia ASSASSIN\n",
      "Odette SUPPORT\n",
      "Pharsa SUPPORT\n",
      "Rafaela MAGE\n",
      "Ruby FIGHTER\n",
      "Sun Wukong FIGHTER\n",
      "Tigreal TANK\n",
      "Vexana SUPPORT\n",
      "Yi Sun-Shin SUPPORT\n",
      "Yun Zhao MARKSMAN\n",
      "Zhask SUPPORT\n"
     ]
    }
   ],
   "source": [
    "print (\"name\", \"role\")\n",
    "for row in myreader:\n",
    "    if int(row[1])>=270: #moovementSpeed\n",
    "        print(row[0],\"MARKSMAN\")\n",
    "        arr.append([row[0], 'MARKSMAN'])\n",
    "    elif int(row[5])>=500: #mana\n",
    "        print(row[0],\"MAGE\")\n",
    "        arr.append([row[0], 'MAGE'])\n",
    "    elif int(row[3])>=25: #armor\n",
    "        print(row[0],\"TANK\")\n",
    "        arr.append([row[0], 'TANK'])\n",
    "    elif int(row[2])>=121: #physicalAttack\n",
    "        print(row[0],\"ASSASSIN\")\n",
    "        arr.append([row[0], 'ASSASSIN'])\n",
    "    elif int(row[4])>=2580: #hp\n",
    "        print(row[0],\"FIGHTER\")\n",
    "        arr.append([row[0], 'FIGHTER'])\n",
    "    else: #lainlain\n",
    "        print(row[0],\"SUPPORT\")\n",
    "        arr.append([row[0], 'SUPPORT'])\n"
   ]
  },
  {
   "cell_type": "markdown",
   "metadata": {},
   "source": [
    "Menyimpan hasil keluaran ke dalam file prediction.csv, sebagai berikut:"
   ]
  },
  {
   "cell_type": "code",
   "execution_count": 4,
   "metadata": {
    "collapsed": true
   },
   "outputs": [],
   "source": [
    "with open(\"prediction.csv\", \"w\", newline=\"\") as f:\n",
    "    fieldnames = ['name','role']\n",
    "    writer = csv.writer(f)\n",
    "    writer.writerow(fieldnames)\n",
    "    writer.writerows(arr)"
   ]
  }
 ],
 "metadata": {
  "kernelspec": {
   "display_name": "Python 3",
   "language": "python",
   "name": "python3"
  },
  "language_info": {
   "codemirror_mode": {
    "name": "ipython",
    "version": 3
   },
   "file_extension": ".py",
   "mimetype": "text/x-python",
   "name": "python",
   "nbconvert_exporter": "python",
   "pygments_lexer": "ipython3",
   "version": "3.6.3"
  }
 },
 "nbformat": 4,
 "nbformat_minor": 2
}
