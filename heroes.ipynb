{
 "cells": [
  {
   "cell_type": "code",
   "execution_count": 10,
   "metadata": {
    "collapsed": true
   },
   "outputs": [],
   "source": [
    "import csv"
   ]
  },
  {
   "cell_type": "code",
   "execution_count": 11,
   "metadata": {
    "collapsed": true
   },
   "outputs": [],
   "source": [
    "datafile = open('train.csv', 'r')\n",
    "myreader = csv.reader(datafile)\n",
    "next(myreader) #skip header\n",
    "arr = []"
   ]
  },
  {
   "cell_type": "code",
   "execution_count": 12,
   "metadata": {},
   "outputs": [
    {
     "name": "stdout",
     "output_type": "stream",
     "text": [
      "name role\n",
      "Layla MARKSMAN\n",
      "Cyclops MAGE\n",
      "Minotaur TANK\n",
      "Saber ASSASSIN\n",
      "Roger FIGHTER\n",
      "Nana SUPPORT\n"
     ]
    }
   ],
   "source": [
    "print (\"name\", \"role\")\n",
    "for row in myreader:\n",
    "    if int(row[1])>=270: #moovementSpeed\n",
    "        print(row[0],\"MARKSMAN\")\n",
    "        arr.append([row[0], 'MARKSMAN'])\n",
    "    elif int(row[5])>=500: #mana\n",
    "        print(row[0],\"MAGE\")\n",
    "        arr.append([row[0], 'MAGE'])\n",
    "    elif int(row[3])>=25: #armor\n",
    "        print(row[0],\"TANK\")\n",
    "        arr.append([row[0], 'TANK'])\n",
    "    elif int(row[2])>=121: #physicalAttack\n",
    "        print(row[0],\"ASSASSIN\")\n",
    "        arr.append([row[0], 'ASSASSIN'])\n",
    "    elif int(row[4])>=2580: #hp\n",
    "        print(row[0],\"FIGHTER\")\n",
    "        arr.append([row[0], 'FIGHTER'])\n",
    "    else: #lainlain\n",
    "        print(row[0],\"SUPPORT\")\n",
    "        arr.append([row[0], 'SUPPORT'])\n"
   ]
  },
  {
   "cell_type": "code",
   "execution_count": 8,
   "metadata": {
    "collapsed": true
   },
   "outputs": [],
   "source": [
    "with open(\"prediction.csv\", \"w\", newline=\"\") as f:\n",
    "    fieldnames = ['name','role']\n",
    "    writer = csv.writer(f)\n",
    "    writer.writerow(fieldnames)\n",
    "    writer.writerows(arr)"
   ]
  },
  {
   "cell_type": "code",
   "execution_count": null,
   "metadata": {
    "collapsed": true
   },
   "outputs": [],
   "source": []
  }
 ],
 "metadata": {
  "kernelspec": {
   "display_name": "Python 3",
   "language": "python",
   "name": "python3"
  },
  "language_info": {
   "codemirror_mode": {
    "name": "ipython",
    "version": 3
   },
   "file_extension": ".py",
   "mimetype": "text/x-python",
   "name": "python",
   "nbconvert_exporter": "python",
   "pygments_lexer": "ipython3",
   "version": "3.6.3"
  }
 },
 "nbformat": 4,
 "nbformat_minor": 2
}
